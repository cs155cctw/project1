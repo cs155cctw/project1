{
 "cells": [
  {
   "cell_type": "code",
   "execution_count": 1,
   "metadata": {},
   "outputs": [],
   "source": [
    "import matplotlib.pyplot as plt\n",
    "import numpy as np\n",
    "from sklearn.model_selection import train_test_split\n",
    "from sklearn.ensemble import AdaBoostRegressor\n",
    "from sklearn.tree import DecisionTreeRegressor\n",
    "from sklearn.metrics import roc_curve, roc_auc_score"
   ]
  },
  {
   "cell_type": "markdown",
   "metadata": {},
   "source": [
    "## Load the data"
   ]
  },
  {
   "cell_type": "code",
   "execution_count": 2,
   "metadata": {},
   "outputs": [],
   "source": [
    "train_data_2008 = np.loadtxt('data/train_2008.csv', skiprows=1, delimiter=',')\n",
    "test_data_2008 = np.loadtxt('data/test_2008.csv', skiprows=1, delimiter=',')\n",
    "test_data_2012 = np.loadtxt('data/test_2012.csv', skiprows=1, delimiter=',')"
   ]
  },
  {
   "cell_type": "code",
   "execution_count": 3,
   "metadata": {},
   "outputs": [],
   "source": [
    "X_train_2008 = train_data_2008[:,3:-1]\n",
    "Y_train_2008 = train_data_2008[:,-1]\n",
    "X_test_2008 = test_data_2008[:,3:]\n",
    "X_test_2012 = test_data_2012[:,3:]"
   ]
  },
  {
   "cell_type": "markdown",
   "metadata": {},
   "source": [
    "## Data pre-process"
   ]
  },
  {
   "cell_type": "code",
   "execution_count": 4,
   "metadata": {},
   "outputs": [],
   "source": [
    "def normalize_data_column(x):\n",
    "    '''\n",
    "    normalize the input data such that it is centered around zero and has standard deviation of 1.0\n",
    "    Inputs:\n",
    "        x: a (N, D) shaped numpy array containing the data points.\n",
    "    Outputs:\n",
    "        xp: a (N, D) shaped numpy array containing the normalized data points.\n",
    "    '''\n",
    "    xp = np.zeros_like(x)\n",
    "    \n",
    "    for idx_D in range(len(x[0,:])): #normalize each column independently\n",
    "        average = np.mean(x[:,idx_D])\n",
    "        std_dev = np.std(x[:,idx_D])\n",
    "        if std_dev > 0:\n",
    "            xp[:,idx_D] = (x[:, idx_D] - average)/std_dev\n",
    "        elif average != 0: #if all the elements are the same in that column, make all of them to be one\n",
    "            xp[:,idx_D] = x[:, idx_D]/average\n",
    "        else:\n",
    "            xp[:,idx_D] = x[:, idx_D]\n",
    "    \n",
    "    return xp"
   ]
  },
  {
   "cell_type": "code",
   "execution_count": 5,
   "metadata": {},
   "outputs": [],
   "source": [
    "#normalize each column of the data\n",
    "X_train_2008 = normalize_data_column(X_train_2008)\n",
    "X_test_2008 = normalize_data_column(X_test_2008)\n",
    "X_test_2012 = normalize_data_column(X_test_2012)"
   ]
  },
  {
   "cell_type": "code",
   "execution_count": 6,
   "metadata": {},
   "outputs": [],
   "source": [
    "#split the training data into training and validation dataset\n",
    "X_train, X_valid, Y_train, Y_valid = train_test_split(X_train_2008, Y_train_2008, test_size=0.3)"
   ]
  },
  {
   "cell_type": "markdown",
   "metadata": {},
   "source": [
    "## Build and train the model"
   ]
  },
  {
   "cell_type": "code",
   "execution_count": 7,
   "metadata": {},
   "outputs": [],
   "source": [
    "model_parameter = \"adaboost_lr0p3_lossSquare_nest1000_minsamplesplit2_maxdepth5_sqrt_random_skipdatacolumn012\""
   ]
  },
  {
   "cell_type": "code",
   "execution_count": 8,
   "metadata": {},
   "outputs": [
    {
     "data": {
      "text/plain": [
       "AdaBoostRegressor(base_estimator=DecisionTreeRegressor(criterion='mse', max_depth=5, max_features='sqrt',\n",
       "           max_leaf_nodes=None, min_impurity_decrease=0.0,\n",
       "           min_impurity_split=None, min_samples_leaf=1,\n",
       "           min_samples_split=2, min_weight_fraction_leaf=0.0,\n",
       "           presort=False, random_state=None, splitter='random'),\n",
       "         learning_rate=0.03, loss='square', n_estimators=1000,\n",
       "         random_state=None)"
      ]
     },
     "execution_count": 8,
     "metadata": {},
     "output_type": "execute_result"
    }
   ],
   "source": [
    "#estimator for adaboost\n",
    "ada_tree_estimator = DecisionTreeRegressor(min_samples_split=2, max_depth=5, max_features='sqrt', splitter='random')\n",
    "#adaboost regressor\n",
    "ab = AdaBoostRegressor(ada_tree_estimator, learning_rate=0.03, loss='square', n_estimators=1000)\n",
    "#fit\n",
    "ab.fit(X_train, Y_train)"
   ]
  },
  {
   "cell_type": "markdown",
   "metadata": {},
   "source": [
    "## Validation"
   ]
  },
  {
   "cell_type": "code",
   "execution_count": 9,
   "metadata": {},
   "outputs": [
    {
     "name": "stdout",
     "output_type": "stream",
     "text": [
      "0.7850239556912845\n",
      "0.7695387345052067\n"
     ]
    }
   ],
   "source": [
    "## calculate the AUC - area under the curve\n",
    "Y_train_predict = ab.predict(X_train)\n",
    "Y_valid_predict = ab.predict(X_valid)\n",
    "AUC_train = roc_auc_score(Y_train, Y_train_predict)\n",
    "print(AUC_train)\n",
    "AUC_valid = roc_auc_score(Y_valid, Y_valid_predict)\n",
    "print(AUC_valid)"
   ]
  },
  {
   "cell_type": "code",
   "execution_count": 10,
   "metadata": {},
   "outputs": [
    {
     "data": {
      "image/png": "[encoded data removed]",
      "text/plain": [
       "<Figure size 432x288 with 1 Axes>"
      ]
     },
     "metadata": {
      "needs_background": "light"
     },
     "output_type": "display_data"
    }
   ],
   "source": [
    "## draw the ROC curve\n",
    "fpr_train, tpr_train, _ = roc_curve(Y_train, Y_train_predict)\n",
    "fpr_valid, tpr_valid, _ = roc_curve(Y_valid, Y_valid_predict)\n",
    "plt.figure()\n",
    "lw = 2\n",
    "plt.plot(fpr_train, tpr_train, color='blue',\n",
    "         lw=lw, label='training set, AUC = %.3f'%AUC_train)\n",
    "plt.plot(fpr_valid, tpr_valid, color='darkorange',\n",
    "         lw=lw, label='validation set, AUC = %.3f'%AUC_valid)\n",
    "plt.plot([0, 1], [0, 1], color='black', lw=lw, linestyle='--')\n",
    "plt.xlim([0.0, 1.0])\n",
    "plt.ylim([0.0, 1.05])\n",
    "plt.xlabel('Background (false positives)')\n",
    "plt.ylabel('Signal (true positives)')\n",
    "plt.legend(loc=0, shadow=True)\n",
    "plt.title(r'ROC curve')\n",
    "plt.savefig('plots/ROC_'+model_parameter+'.pdf')"
   ]
  },
  {
   "cell_type": "markdown",
   "metadata": {},
   "source": [
    "## Make the prediction!"
   ]
  },
  {
   "cell_type": "code",
   "execution_count": 11,
   "metadata": {},
   "outputs": [],
   "source": [
    "predict_test_2008 = ab.predict(X_test_2008)\n",
    "predict_test_2012 = ab.predict(X_test_2012)"
   ]
  },
  {
   "cell_type": "markdown",
   "metadata": {},
   "source": [
    "## Write to submission file"
   ]
  },
  {
   "cell_type": "code",
   "execution_count": 12,
   "metadata": {},
   "outputs": [],
   "source": [
    "ids_2008 = np.arange(len(X_test_2008))\n",
    "ids_2012 = np.arange(len(X_test_2012))\n",
    "target_2008 = np.copy(predict_test_2008)\n",
    "target_2008 = np.copy(predict_test_2008)\n",
    "target_2012 = np.copy(predict_test_2012)"
   ]
  },
  {
   "cell_type": "code",
   "execution_count": 13,
   "metadata": {},
   "outputs": [],
   "source": [
    "subm_2008 = np.stack([ids_2008,target_2008], axis=1)\n",
    "subm_2012 = np.stack([ids_2012,target_2012], axis=1)\n",
    "#let's name the submission file in this way\n",
    "#submission_2008or2012_date_version_algorithm_person.csv\n",
    "np.savetxt('submission/submission_2008_02102019_v2_'+model_parameter+'_Zhicai.csv', subm_2008, fmt='%d,%.6f', header='id,target', comments='')\n",
    "np.savetxt('submission/submission_2012_02102019_v2_'+model_parameter+'_Zhicai.csv', subm_2012, fmt='%d,%.6f', header='id,target', comments='')"
   ]
  },
  {
   "cell_type": "code",
   "execution_count": null,
   "metadata": {},
   "outputs": [],
   "source": []
  },
  {
   "cell_type": "code",
   "execution_count": null,
   "metadata": {},
   "outputs": [],
   "source": []
  }
 ],
 "metadata": {
  "kernelspec": {
   "display_name": "Python 3",
   "language": "python",
   "name": "python3"
  },
  "language_info": {
   "codemirror_mode": {
    "name": "ipython",
    "version": 3
   },
   "file_extension": ".py",
   "mimetype": "text/x-python",
   "name": "python",
   "nbconvert_exporter": "python",
   "pygments_lexer": "ipython3",
   "version": "3.7.1"
  }
 },
 "nbformat": 4,
 "nbformat_minor": 2
}
