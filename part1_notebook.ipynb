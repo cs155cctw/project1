{
 "cells": [
  {
   "cell_type": "code",
   "execution_count": 33,
   "metadata": {},
   "outputs": [],
   "source": [
    "import matplotlib.pyplot as plt\n",
    "import numpy as np\n",
    "from sklearn.model_selection import train_test_split"
   ]
  },
  {
   "cell_type": "markdown",
   "metadata": {},
   "source": [
    "## Load the data"
   ]
  },
  {
   "cell_type": "code",
   "execution_count": 2,
   "metadata": {},
   "outputs": [],
   "source": [
    "train_data_2008 = np.loadtxt('data/train_2008.csv', skiprows=1, delimiter=',')\n",
    "test_data_2008 = np.loadtxt('data/test_2008.csv', skiprows=1, delimiter=',')"
   ]
  },
  {
   "cell_type": "code",
   "execution_count": 26,
   "metadata": {},
   "outputs": [],
   "source": [
    "X_train_2008 = train_data_2008[:,:-1]\n",
    "Y_train_2008 = train_data_2008[:,-1]\n",
    "X_test_2008 = test_data_2008[:,:-1]\n",
    "Y_test_2008 = test_data_2008[:,-1]"
   ]
  },
  {
   "cell_type": "markdown",
   "metadata": {},
   "source": [
    "## Data pre-process"
   ]
  },
  {
   "cell_type": "code",
   "execution_count": 27,
   "metadata": {},
   "outputs": [],
   "source": [
    "def normalize_data_column(x):\n",
    "    '''\n",
    "    normalize the input data such that it is centered around zero and has standard deviation of 1.0\n",
    "    Inputs:\n",
    "        x: a (N, D) shaped numpy array containing the data points.\n",
    "    Outputs:\n",
    "        xp: a (N, D) shaped numpy array containing the normalized data points.\n",
    "    '''\n",
    "    xp = np.zeros_like(x)\n",
    "    \n",
    "    for idx_D in range(len(x[0,:])): #normalize each column independently\n",
    "        average = np.mean(x[:,idx_D])\n",
    "        std_dev = np.std(x[:,idx_D])\n",
    "        if std_dev > 0:\n",
    "            xp[:,idx_D] = (x[:, idx_D] - average)/std_dev\n",
    "        elif average != 0: #if all the elements are the same in that column, make all of them to be one\n",
    "            xp[:,idx_D] = x[:, idx_D]/average\n",
    "        else:\n",
    "            xp[:,idx_D] = x[:, idx_D]\n",
    "    \n",
    "    return xp"
   ]
  },
  {
   "cell_type": "code",
   "execution_count": 28,
   "metadata": {},
   "outputs": [],
   "source": [
    "#normalize each column of the data\n",
    "X_train_2008 = normalize_data_column(X_train_2008)\n",
    "X_test_2008 = normalize_data_column(X_test_2008)"
   ]
  },
  {
   "cell_type": "code",
   "execution_count": 35,
   "metadata": {},
   "outputs": [],
   "source": [
    "#split the training data into training and validation dataset\n",
    "X_train, Y_train, X_valid, Y_valid = train_test_split(X_train_2008, Y_train_2008, test_size=0.3)"
   ]
  },
  {
   "cell_type": "markdown",
   "metadata": {},
   "source": [
    "## Build the model"
   ]
  },
  {
   "cell_type": "code",
   "execution_count": null,
   "metadata": {},
   "outputs": [],
   "source": []
  },
  {
   "cell_type": "markdown",
   "metadata": {},
   "source": [
    "## Write to submission file"
   ]
  },
  {
   "cell_type": "code",
   "execution_count": 46,
   "metadata": {},
   "outputs": [],
   "source": [
    "ids = np.arange(len(Y_test_2008))\n",
    "target = 0.123456*np.ones(len(Y_test_2008))"
   ]
  },
  {
   "cell_type": "code",
   "execution_count": 49,
   "metadata": {},
   "outputs": [],
   "source": [
    "subm = np.stack([ids,target], axis=1)\n",
    "#let's name the submission file in this way\n",
    "#submission_date_version_algorithm_person.csv\n",
    "np.savetxt('submission/submission_02092019_v1_Adaboost_Zhicai.csv', subm, fmt='%d,%.6f', header='id,target', comments='')"
   ]
  },
  {
   "cell_type": "code",
   "execution_count": null,
   "metadata": {},
   "outputs": [],
   "source": []
  }
 ],
 "metadata": {
  "kernelspec": {
   "display_name": "Python 3",
   "language": "python",
   "name": "python3"
  },
  "language_info": {
   "codemirror_mode": {
    "name": "ipython",
    "version": 3
   },
   "file_extension": ".py",
   "mimetype": "text/x-python",
   "name": "python",
   "nbconvert_exporter": "python",
   "pygments_lexer": "ipython3",
   "version": "3.6.5"
  }
 },
 "nbformat": 4,
 "nbformat_minor": 2
}
